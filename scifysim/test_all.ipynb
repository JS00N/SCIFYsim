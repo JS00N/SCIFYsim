{
 "cells": [
  {
   "cell_type": "markdown",
   "metadata": {},
   "source": [
    "# Testing all"
   ]
  },
  {
   "cell_type": "code",
   "execution_count": null,
   "metadata": {},
   "outputs": [],
   "source": [
    "import scifysim as sf\n",
    "import numpy as np\n",
    "import matplotlib.pyplot as plt\n",
    "print(\"SCIFYsim version: \", sf.version)\n",
    "sf.logit.setLevel(sf.logging.ERROR)\n",
    "seed = 10\n",
    "asim = sf.director.simulator(fpath=\"local_config/default_new_4T.ini\")\n",
    "asim.prepare_observatory(file=asim.config)\n",
    "asim.prepare_injector(file=asim.config, fpath=\"local_config/\", seed=seed)\n",
    "asim.prepare_combiner(asim.config)\n",
    "asim.prepare_sequence(asim.config)\n",
    "asim.prepare_fringe_tracker(asim.config, seed=seed)\n",
    "asim.fringe_tracker.prepare_time_series(asim.lambda_science_range, duration=10, replace=True)\n",
    "asim.prepare_spectrograph(config=asim.config)"
   ]
  },
  {
   "cell_type": "code",
   "execution_count": null,
   "metadata": {},
   "outputs": [],
   "source": [
    "#aspec = sf.spectrograph.spectrograph(asim.config, asim.lambda_science_range, n_chan=asim.combiner.M.shape[0])"
   ]
  },
  {
   "cell_type": "markdown",
   "metadata": {},
   "source": [
    "sky_trans = sf.sources.transmission_emission()\n",
    "VLTI_UT_trans = sf.sources.transmission_emission(trans_file=\"data/VLTI_UT_trans_sfs.txt\")\n",
    "sf.sources.chain(sky_trans, VLTI_UT_trans)\n",
    "VLTI_UT_trans.downstream = None\n",
    "sky_trans.upstream = None"
   ]
  },
  {
   "cell_type": "markdown",
   "metadata": {},
   "source": [
    "# Source building is now packaged"
   ]
  },
  {
   "cell_type": "code",
   "execution_count": null,
   "metadata": {},
   "outputs": [],
   "source": [
    "asim.prepare_sources()\n",
    "asim.obs.point(asim.sequence[10], asim.target)"
   ]
  },
  {
   "cell_type": "markdown",
   "metadata": {},
   "source": [
    "### The sources of absorbtion and emission\n",
    "\n",
    "Here are the spectra used for absorbtion and emission in the beam:"
   ]
  },
  {
   "cell_type": "code",
   "execution_count": null,
   "metadata": {},
   "outputs": [],
   "source": [
    "lams = np.linspace(0.5e-6, 5e-6, 1000)\n",
    "transut = asim.src.UT.trans(lams)\n",
    "transsky = asim.src.sky.trans(lams)\n",
    "plt.figure()\n",
    "plt.plot(lams, transut, label=\"Transmission, UT\")\n",
    "plt.plot(lams, transsky, label=\"Transmission, sky\")\n",
    "plt.legend()\n",
    "plt.show()"
   ]
  },
  {
   "cell_type": "code",
   "execution_count": null,
   "metadata": {},
   "outputs": [],
   "source": []
  },
  {
   "cell_type": "markdown",
   "metadata": {},
   "source": [
    "# Scheduling / preparation\n",
    "\n",
    "The SCIFYsim integrates with `astroplan`"
   ]
  },
  {
   "cell_type": "code",
   "execution_count": null,
   "metadata": {},
   "outputs": [],
   "source": [
    "sf.observatory.plots.plot_altitude(asim.target, asim.obs.observatory_location, asim.sequence)\n",
    "plt.title(\"%s altitude\"%(asim.tarname))\n",
    "plt.show()\n",
    "sf.observatory.plots.plot_airmass(asim.target, asim.obs.observatory_location, asim.sequence)\n",
    "plt.title(\"%s airmass\"%(asim.tarname))\n",
    "plt.show()\n",
    "sf.observatory.plots.plot_finder_image(target=asim.target)\n",
    "plt.title(\"%s finder view\"%(asim.tarname))\n",
    "plt.show()"
   ]
  },
  {
   "cell_type": "code",
   "execution_count": null,
   "metadata": {},
   "outputs": [],
   "source": [
    "for i in range(len(asim.sequence)):\n",
    "    fig = sf.plot_tools.plot_projected_pupil(asim, i,\n",
    "                                             dist=100, grid=True,\n",
    "                                             perspective=True)\n",
    "    fig.show()"
   ]
  },
  {
   "cell_type": "markdown",
   "metadata": {},
   "source": [
    "# Building the maps"
   ]
  },
  {
   "cell_type": "code",
   "execution_count": null,
   "metadata": {},
   "outputs": [],
   "source": [
    "asim.build_all_maps(mapcrop=0.5)\n",
    "asim.maps.shape"
   ]
  },
  {
   "cell_type": "code",
   "execution_count": null,
   "metadata": {},
   "outputs": [],
   "source": [
    "sf.plot_tools.plot_response_map(asim, outputs=np.arange(2,6))"
   ]
  },
  {
   "cell_type": "markdown",
   "metadata": {},
   "source": [
    "# Propagating some photons\n",
    "## The metrologic integration\n",
    "The method `metrologic_integration` of the `director` records a lot of metrology to help analyze the situation.\n",
    "\n",
    "It also has more overhead than a typical method to compute outputs.\n",
    "\n",
    "Here, detector noises are not computed. Only the fluctuations of the instantaneous flux are computed."
   ]
  },
  {
   "cell_type": "code",
   "execution_count": null,
   "metadata": {},
   "outputs": [],
   "source": [
    "t_exp =1.\n",
    "integ = asim.make_metrologic_exposure(asim.src.planet, asim.src.star, [asim.src.sky, asim.src.UT],\n",
    "                                      texp=t_exp)\n"
   ]
  },
  {
   "cell_type": "code",
   "execution_count": null,
   "metadata": {},
   "outputs": [],
   "source": [
    "plt.imshow(asim.spectro.get_spectrum_image(integ.planetlight[0]))"
   ]
  },
  {
   "cell_type": "markdown",
   "metadata": {},
   "source": [
    "## Plotting some results"
   ]
  },
  {
   "cell_type": "code",
   "execution_count": null,
   "metadata": {},
   "outputs": [],
   "source": [
    "integ.nsamples = integ.starlight.shape[0]\n",
    "integ.summed_signal = integ.static[0][None,:,:]+\\\n",
    "                    integ.static[1][None,:,:]+integ.starlight+\\\n",
    "                    integ.planetlight\n",
    "integ.star_sum = integ.starlight.sum(axis=0)\n",
    "integ.planet_sum = integ.planetlight.sum(axis=0)\n",
    "integ.sky_sum = integ.static[0] * integ.nsamples\n",
    "integ.inst_sum = integ.static[1] * integ.nsamples\n",
    "\n",
    "shift_step = 0.03\n",
    "outputs = np.arange(integ.summed_signal.shape[2])\n",
    "isources = np.arange(4)\n",
    "raw_sources = [integ.static[1], integ.static[1], integ.starlight, integ.planetlight]\n",
    "sources = [integ.inst_sum, integ.sky_sum, integ.star_sum, integ.planet_sum]\n",
    "source_labels = [\"instrument\", \"sky\", \"star\", \"planet\"]\n",
    "bottom = np.zeros_like(sources[0])\n",
    "pup = 1 # The pupil for which to plot the piston\n",
    "print(integ.planet_sum.shape)\n",
    "fig = plt.figure()\n",
    "bars = []\n",
    "read_noise = integ.ron\n",
    "for ksource, (thesource, label) in enumerate(zip(sources, source_labels)):\n",
    "    photon_noise = np.sqrt(thesource)\n",
    "    if ksource >= 2:\n",
    "        inst_noise = np.std(raw_sources[ksource], axis=0)\n",
    "    else:\n",
    "        inst_noise = np.zeros((asim.lambda_science_range.shape[0], outputs.shape[0]))\n",
    "    #print(\"Inst noise\", ksource,  inst_noise.mean(axis=0))\n",
    "    #print(\"Photon noise\", ksource, photon_noise.mean(axis=0))\n",
    "    noise = np.sqrt(photon_noise**2 + read_noise**2 + inst_noise**2)\n",
    "    for ilamb in range(asim.lambda_science_range.shape[0]):\n",
    "        #print(ksource, ilamb, label)\n",
    "        #pdb.set_trace()\n",
    "        if ilamb == 0:\n",
    "            bars.append(plt.bar(outputs+shift_step*ilamb, thesource[ilamb,:], bottom=bottom[ilamb,:],\n",
    "                label=label, width=shift_step, color=\"C%d\"%ksource)) #yerr=noise[ilamb,:]\n",
    "        else:\n",
    "            bars.append(plt.bar(outputs+shift_step*ilamb, thesource[ilamb,:], bottom=bottom[ilamb,:],\n",
    "                width=shift_step,  color=\"C%d\"%ksource)) #yerr=noise[ilamb,:]\n",
    "    bottom += thesource\n",
    "#plt.legend((bars[i][0] for i in range(len(bars))), source_labels)\n",
    "#Handled the legend with an condition in the loop\n",
    "plt.legend()\n",
    "plt.xticks(outputs)\n",
    "plt.xlabel(r\"Output and spectral channel %.1f to %.1f $\\mu m$ ($R\\approx %.0f$)\"%(asim.lambda_science_range[0]*1e6,\n",
    "                                                                                 asim.lambda_science_range[-1]*1e6,\n",
    "                                                                                 asim.R.mean()))\n",
    "plt.title(\"Integration of %.2f s on %s\"%(t_exp, asim.tarname))\n",
    "plt.ylabel(\"Number of photons\")\n",
    "plt.show()\n",
    "\n",
    "plt.figure()\n",
    "plt.violinplot(integ.summed_signal.sum(axis=1))\n",
    "plt.ylabel(\"Number of photons per simulation step (%.0f ms)\"%(asim.injector.screen[0].step_time*1000))\n",
    "plt.xlabel(\"Outputs\")\n",
    "plt.title(\"Temporal distribution of the output illumination\")\n",
    "plt.show()\n"
   ]
  },
  {
   "cell_type": "code",
   "execution_count": null,
   "metadata": {},
   "outputs": [],
   "source": [
    "\n",
    "\n",
    "# I should profide an easier access to this time step\n",
    "integration_step = asim.injector.screen[0].step_time\n",
    "t = np.arange(integ.summed_signal.shape[0])*integration_step\n",
    "plt.figure()\n",
    "pup = 1\n",
    "plt.plot(t, integ.ft_phase[:,pup], label=\"Fringe tracker phase\")\n",
    "plt.plot(t, integ.inj_phase[:,:], label=\"Injection phase\")\n",
    "#plt.plot(asim.fringe_tracker.ref_sample_times[:1000],\n",
    "#         2*np.pi/3.5e-6*asim.fringe_tracker.dry_piston_series[:1000,pup],\n",
    "#        label= \"Sample\", alpha=0.3)\n",
    "plt.title(\"Residual phase for pupil %d\"%(pup))\n",
    "plt.xlabel(\"Time [s]\")\n",
    "plt.ylabel(\"Phase [rad]\")\n",
    "plt.legend()\n",
    "plt.show()\n",
    "\n",
    "plt.figure()\n",
    "plt.plot(t, integ.inj_amp[:]**2, label=\"Injection rate\")\n",
    "#plt.plot(asim.fringe_tracker.ref_sample_times[:1000],\n",
    "#         2*np.pi/3.5e-6*asim.fringe_tracker.dry_piston_series[:1000,pup],\n",
    "#        label= \"Sample\", alpha=0.3)\n",
    "plt.title(\"Residual coupling rate\")\n",
    "plt.xlabel(\"Time [s]\")\n",
    "plt.ylabel(\"Coupling \")\n",
    "plt.ylim(0,0.8)\n",
    "plt.legend()\n",
    "plt.show()\n",
    "\n",
    "plt.figure()\n",
    "pup = 1\n",
    "plt.plot(t, integ.summed_signal.sum(axis=1)[:,3:5], label=\"Dark output signal\")\n",
    "plt.plot(t, integ.summed_signal.sum(axis=1)[:,3] - integ.summed_signal.sum(axis=1)[:,4], label=\"Kernel signal\")\n",
    "#plt.plot(asim.fringe_tracker.ref_sample_times[:1000],\n",
    "#         2*np.pi/3.5e-6*asim.fringe_tracker.dry_piston_series[:1000,pup],\n",
    "#        label= \"Sample\", alpha=0.3)\n",
    "plt.title(\"Individual and differential outputs\")\n",
    "plt.xlabel(\"Time [s]\")\n",
    "plt.ylabel(\"Photons\")\n",
    "plt.legend()\n",
    "plt.show()"
   ]
  },
  {
   "cell_type": "code",
   "execution_count": null,
   "metadata": {},
   "outputs": [],
   "source": [
    "bins = np.linspace(0, 1e9, 100)\n",
    "total_kernels = integ.summed_signal[:,:,3] - integ.summed_signal[:,:,4]\n",
    "star_kernels = integ.starlight[:,:,3] - integ.starlight[:,:,4]\n",
    "plt.figure()\n",
    "plt.hist(integ.summed_signal[:,:,3].mean(axis=1), bins=bins,\n",
    "         histtype=\"step\", label=\"Null1\")\n",
    "plt.hist(integ.summed_signal[:,:,4].mean(axis=1), bins=bins,\n",
    "         histtype=\"step\", label=\"Null2\")\n",
    "plt.hist(integ.starlight[:,:,3].mean(axis=1), bins=bins,\n",
    "         histtype=\"step\", label=r\"Null1 under $\\mathcal{H}_0$\")\n",
    "plt.hist(integ.starlight[:,:,4].mean(axis=1), bins=bins,\n",
    "         histtype=\"step\", label=r\"Null2 under $\\mathcal{H}_0$\")\n",
    "plt.legend()\n",
    "plt.title(\"Distribution of the nulls\")\n",
    "plt.xlabel(\"Photon per 5ms subexp\")\n",
    "plt.ylabel(\"Occurences\")\n",
    "plt.show()"
   ]
  },
  {
   "cell_type": "code",
   "execution_count": null,
   "metadata": {},
   "outputs": [],
   "source": [
    "bins = np.linspace(-1e9, 1e9, 100)\n",
    "total_kernels = integ.summed_signal[:,:,3] - integ.summed_signal[:,:,4]\n",
    "star_kernels = integ.starlight[:,:,3] - integ.starlight[:,:,4]\n",
    "plt.figure()\n",
    "plt.hist(total_kernels.mean(axis=1), bins=bins,\n",
    "         histtype=\"step\", label=\"Total\")\n",
    "plt.hist(star_kernels.mean(axis=1), bins=bins,\n",
    "         histtype=\"step\", label=r\"Under $\\mathcal{H}_0$\")\n",
    "plt.legend()\n",
    "plt.title(\"Distribution of the kernel-null\")\n",
    "plt.xlabel(\"Differential photons per 5ms subexp\")\n",
    "plt.ylabel(\"Occurences\")\n",
    "plt.show()"
   ]
  },
  {
   "cell_type": "markdown",
   "metadata": {},
   "source": [
    "import matplotlib.pyplot as plt\n",
    "print(\"================\")\n",
    "print(\"PHOTOMETRY\")\n",
    "print(integ.starlight.shape)\n",
    "photometry_mean = np.mean(integ.starlight[:,:,asim.combiner.photometric], axis=0).mean(axis=0)\n",
    "photometry_std = np.std(integ.starlight[:,:,asim.combiner.photometric], axis=0).mean(axis=0)\n",
    "print(\"photometry :\", photometry_mean, \"+-\", photometry_std, \"photons\")\n",
    "print(\"\")\n",
    "print(\"================\")\n",
    "print(\"LEAKAGE (starlight on bright channels)\")\n",
    "print(integ.starlight.shape)\n",
    "leakage_mean = np.mean(integ.starlight[:,:,asim.combiner.dark], axis=0).mean(axis=0)\n",
    "leakage_std = np.std(integ.starlight[:,:,asim.combiner.dark], axis=0).mean(axis=0)\n",
    "print(\"star_leakage :\", leakage_mean, \"+-\", leakage_std, \"photons\")\n",
    "\n",
    "plt.figure()\n",
    "plt.errorbar(np.arange(8), np.mean(integ.starlight, axis=(0,1)), yerr=np.std(integ.starlight, axis=), fmt=\"none\")\n",
    "plt.xlabel(\"Output\")"
   ]
  },
  {
   "cell_type": "code",
   "execution_count": null,
   "metadata": {},
   "outputs": [],
   "source": []
  },
  {
   "cell_type": "markdown",
   "metadata": {},
   "source": [
    "# Non-metrologic exposure\n"
   ]
  },
  {
   "cell_type": "code",
   "execution_count": null,
   "metadata": {},
   "outputs": [],
   "source": [
    "t_exp =1.\n",
    "datacube = []\n",
    "for i in tqdm(range(10)):\n",
    "    integ = asim.make_exposure(asim.src.planet, asim.src.star, [asim.src.sky, asim.src.UT],\n",
    "                                      texp=t_exp, monitor_phase=False, spectro_image=True)\n",
    "    datacube.append(integ.get_total())\n",
    "datacube = np.array(datacube)\n"
   ]
  },
  {
   "cell_type": "code",
   "execution_count": null,
   "metadata": {},
   "outputs": [],
   "source": [
    "for im in datacube:\n",
    "    plt.figure()\n",
    "    plt.imshow(im)\n",
    "    plt.colorbar()\n",
    "    plt.show()"
   ]
  },
  {
   "cell_type": "code",
   "execution_count": null,
   "metadata": {},
   "outputs": [],
   "source": [
    "del asim"
   ]
  },
  {
   "cell_type": "markdown",
   "metadata": {},
   "source": [
    "# Testing observatory"
   ]
  },
  {
   "cell_type": "code",
   "execution_count": null,
   "metadata": {},
   "outputs": [],
   "source": [
    "theconfig = sf.parsefile.parse_file(\"local_config/default_new_4T.ini\")\n",
    "obs = sf.observatory.observatory(config=theconfig)"
   ]
  },
  {
   "cell_type": "code",
   "execution_count": null,
   "metadata": {},
   "outputs": [],
   "source": [
    "print(obs.array_config)\n",
    "print(obs.order)\n",
    "print(obs.statlocs)"
   ]
  },
  {
   "cell_type": "code",
   "execution_count": null,
   "metadata": {},
   "outputs": [],
   "source": [
    "theconfig.set(\"configuration\", \"order\", value=\"1,0,2,3\")\n",
    "obs = sf.observatory.observatory(config=theconfig)\n",
    "print(obs.array_config)\n",
    "print(obs.order)\n",
    "print(obs.statlocs)"
   ]
  },
  {
   "cell_type": "code",
   "execution_count": null,
   "metadata": {},
   "outputs": [],
   "source": []
  },
  {
   "cell_type": "code",
   "execution_count": null,
   "metadata": {},
   "outputs": [],
   "source": [
    "from tqdm.auto import tqdm as tqdm\n",
    "from time import sleep\n",
    "for i in tqdm(range(10)):\n",
    "    for j in tqdm(range(100)):\n",
    "        sleep(0.001)"
   ]
  },
  {
   "cell_type": "code",
   "execution_count": null,
   "metadata": {},
   "outputs": [],
   "source": []
  }
 ],
 "metadata": {
  "kernelspec": {
   "display_name": "Python 3",
   "language": "python",
   "name": "python3"
  },
  "language_info": {
   "codemirror_mode": {
    "name": "ipython",
    "version": 3
   },
   "file_extension": ".py",
   "mimetype": "text/x-python",
   "name": "python",
   "nbconvert_exporter": "python",
   "pygments_lexer": "ipython3",
   "version": "3.7.9"
  }
 },
 "nbformat": 4,
 "nbformat_minor": 4
}
