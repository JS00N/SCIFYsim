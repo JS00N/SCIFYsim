{
 "cells": [
  {
   "cell_type": "markdown",
   "id": "compatible-product",
   "metadata": {
    "tags": []
   },
   "source": [
    "# Getting started with SCIFYsim\n",
    "\n",
    "## Import the library"
   ]
  },
  {
   "cell_type": "code",
   "execution_count": null,
   "id": "above-turkish",
   "metadata": {},
   "outputs": [],
   "source": [
    "import scifysim as sf\n",
    "import numpy as np\n",
    "import matplotlib.pyplot as plt\n",
    "# optional (when using dark interfaces)\n",
    "# plt.style.use(\"dark_background\")\n",
    "print(\"SCIFYsim version: \", sf.version)"
   ]
  },
  {
   "cell_type": "code",
   "execution_count": null,
   "id": "99e6b80e-562c-4943-acc9-72929ad0c6b0",
   "metadata": {},
   "outputs": [],
   "source": [
    "from scifysim.dummy import makesim"
   ]
  },
  {
   "cell_type": "code",
   "execution_count": null,
   "id": "2aa641cb-c065-44c4-8525-8daa10b49938",
   "metadata": {},
   "outputs": [],
   "source": [
    "asim = makesim(\"/home/romain/Documents/hi5/SCIFYsim/scifysim/config/default_R400.ini\",\n",
    "               target=\"Gl 86A\")\n",
    "\n",
    "from kernuller import pairwise_kernel\n",
    "ak = pairwise_kernel(2)\n",
    "myk = np.hstack((np.zeros((1,3)), ak, np.zeros((1,3))))\n",
    "asim.combiner.K = myk\n",
    "del ak\n",
    "del myk\n"
   ]
  },
  {
   "cell_type": "code",
   "execution_count": null,
   "id": "7af2bf66-cce3-48b7-9431-e81d51da06d2",
   "metadata": {},
   "outputs": [],
   "source": [
    "asim.point(asim.sequence[3], asim.target)\n",
    "t_exp = 3."
   ]
  },
  {
   "cell_type": "markdown",
   "id": "7008d755-6d77-4896-b3f8-12856f23cd3f",
   "metadata": {},
   "source": [
    "## Then you can start an integration"
   ]
  },
  {
   "cell_type": "markdown",
   "id": "4eed2239-8e2e-4eb2-82ed-b089378a0e65",
   "metadata": {},
   "source": [
    "# Resolved star\n",
    "\n",
    "* Resolved: 3 s/s\n",
    "* Unresolved 1.5 s/s"
   ]
  },
  {
   "cell_type": "code",
   "execution_count": null,
   "id": "4edf146a-6276-4652-bd2b-bf6e495e22bc",
   "metadata": {},
   "outputs": [],
   "source": [
    "integ = asim.make_metrologic_exposure(asim.src.planet, asim.src.star, asim.diffuse,\n",
    "                                      texp=0.1)\n",
    "integ.update_enclosure(asim.lambda_science_range,\n",
    "                       bottom_range=2.0e-6,\n",
    "                       top_range=2.6e-6)\n",
    "integ = asim.make_metrologic_exposure(asim.src.planet, asim.src.star, asim.diffuse,\n",
    "                                      texp=t_exp)\n",
    "\n",
    "integ.prepare_t_exp_base()\n",
    "\n",
    "integ.consolidate_metrologic()"
   ]
  },
  {
   "cell_type": "markdown",
   "id": "350bcf7b-ab67-4aec-bcfa-bea9ffd3cd66",
   "metadata": {},
   "source": [
    "## Nice view of the results"
   ]
  },
  {
   "cell_type": "code",
   "execution_count": null,
   "id": "597cae13-cdab-4b3c-a1d6-47be8db22226",
   "metadata": {},
   "outputs": [],
   "source": [
    "shift_step = 1/(asim.n_spec_ch+2)\n",
    "outputs = np.arange(integ.summed_signal.shape[2])\n",
    "isources = np.arange(len(integ.sums))\n",
    "raw_sources = [integ.static[0], integ.static[1],\n",
    "               integ.static[2], integ.static[3],\n",
    "               integ.static, integ.starlight, integ.planetlight]\n",
    "diffuse = asim.diffuse"
   ]
  },
  {
   "cell_type": "code",
   "execution_count": null,
   "id": "964798a1-31f9-40f1-8429-3130faed45c3",
   "metadata": {},
   "outputs": [],
   "source": [
    "print(\"Number of photons for the 2 dark outputs\")\n",
    "for i, label in enumerate(integ.source_labels):\n",
    "    #print(label + \" %.1e [ph/s]\"%(integ.sums[i].sum()))\n",
    "    detail = integ.sums[i].sum(axis=0)[1] * integ.eta\n",
    "    print(label + \"    %.1e  [e-/s]\"%(detail ))\n",
    "for i, label in enumerate(integ.det_labels):\n",
    "    #print(label + \" %.1e [ph/s]\"%(integ.sums[i].sum()))\n",
    "    detail = integ.det_sources[i].sum(axis=0)\n",
    "    print(label + \"    %.1e   [e-/s]\"%(detail) )\n",
    "\n",
    "print(\"\")\n",
    "fav_output = 1\n",
    "mynpix = asim.config.getfloat(\"spectrograph\", \"n_pix_split\")\n",
    "supsum = np.nan_to_num(np.array(integ.sums))\n",
    "print(f\"In total on output {fav_output}: {supsum.sum(axis=(0,1))[fav_output]:.2e} [e-/s]\")\n",
    "maxbin = np.max(supsum.sum(axis=0), axis=0)\n",
    "\n",
    "# To be portable per for different resolutions:\n",
    "max_density = maxbin/np.gradient(asim.lambda_science_range).mean()\n",
    "print(f\"In total on output {fav_output}: {max_density[fav_output]:.2e} [e-/s/m]\")\n",
    "\n",
    "fig = sf.plot_tools.plot_output_sources(asim, integ, asim.lambda_science_range, t_exp=1.)\n",
    "\n",
    "print()\n",
    "print()\n",
    "print(f\"\\\\hline\")\n",
    "print(f\"\\\\hline\")\n",
    "print(\"Source & Temperature & Mean transmission & Contribution\\\\tablefootmark{a}\\\\\\\\ \")\n",
    "print(f\" & [K] & & $[e^- s^{-1}]$\\\\\\\\\")\n",
    "print(f\"\\\\hline\")\n",
    "for i, (asource,aname) in enumerate(zip(diffuse, integ.static_list)):\n",
    "    pass\n",
    "    # print(f\"{aname} & {asource.T:.1f} & {asource.trans(asim.lambda_science_range).mean():.2f} & {integ.sums[i].sum(axis=0)[3]:.2e} \\\\\\\\\")\n",
    "\n",
    "print(f\"Enclosure & {integ.enclosure.T:.1f} & N.A. & {integ.det_sources[0].sum():.2e} \\\\\\\\\")\n",
    "print(f\"Dark current & {60.:.1f} & N.A. & {integ.det_sources[1]*integ.det_sources[0].shape[0]:.2e} \\\\\\\\\")\n",
    "print(f\"\\\\hline\")\n",
    "\n",
    "print(f\"\\\\tablefoot{{\")\n",
    "print(f\"\\\\tablefoottext{{a}}{{On one dark output, cumulated over all wavelength bands}}\")\n",
    "print(f\"\\\\tablefoottext{{b}}{{For R=400}}\")    \n",
    "print(f\"}}\")\n",
    "    "
   ]
  },
  {
   "cell_type": "markdown",
   "id": "d4f88888-7664-440a-b450-cf64103e5110",
   "metadata": {},
   "source": [
    "# Maps\n",
    "\n",
    "## Description\n",
    "The transmission maps are an important way to interface with the simulator. The maps represent the entire transmission of the instrument as a function of the relative position in the field of view. More precisely, they represent the equivalent collecting power of the whole observatory setup.\n",
    "\n",
    "In `<simulator>.maps`, the values are stored in $m^2/sr$ representing where the solid angle prepresent the area of a pixel. It has shape $n_{chunks}, n_{chanels}, n_{outputs}, n_{pix}, n_{pix}$\n",
    "\n",
    "For convenience, a property is available as an astropy quantity under `<simulator>.gain_map`, with units $m^2 e^-/ph$, as it includes the effect of quantum efficiency.\n",
    "\n",
    "## Alternative backend\n",
    "The maps can grow large in memory. SCIFYsim offers an alternative backend using **Dask**. [Dask](https://www.dask.org/) is a lazy and out-of-core library based of numpy. It breaks down the maps in smaller chunks and computes only at the last moment, when simplifications can be made. It can be called with `<simulator>.build_all_maps_dask`"
   ]
  },
  {
   "cell_type": "code",
   "execution_count": null,
   "id": "7faeecd4-9777-43ff-9333-922cfb0f6df1",
   "metadata": {},
   "outputs": [],
   "source": [
    "%%time\n",
    "asim.build_all_maps(mapres=200, mapcrop=0.5)"
   ]
  },
  {
   "cell_type": "code",
   "execution_count": null,
   "id": "edb4f86a-4247-493d-99ca-f9e0df11f70d",
   "metadata": {},
   "outputs": [],
   "source": [
    "asim.maps.shape"
   ]
  },
  {
   "cell_type": "code",
   "execution_count": null,
   "id": "523341e9-edaf-461b-b622-49b453d66512",
   "metadata": {},
   "outputs": [],
   "source": [
    "print(asim.gain_map.shape)\n",
    "print(asim.gain_map.unit)"
   ]
  },
  {
   "cell_type": "code",
   "execution_count": null,
   "id": "f749d578-1837-4914-8c54-38dc5cdefc6b",
   "metadata": {},
   "outputs": [],
   "source": [
    "fig = sf.plot_tools.plot_response_map(asim, sequence_index=[0],\n",
    "                                outputs=np.array([3,4]),\n",
    "                                dpi=200, layout=\"v\", show=False,\n",
    "                                     figsize=(3,8))\n",
    "plt.tight_layout()\n",
    "plt.show()"
   ]
  },
  {
   "cell_type": "code",
   "execution_count": null,
   "id": "5ff66416-e169-4b76-8a74-2c82fcd52abd",
   "metadata": {},
   "outputs": [],
   "source": [
    "asim.maps.shape"
   ]
  },
  {
   "cell_type": "code",
   "execution_count": null,
   "id": "5beea777-d8de-4c72-a80b-5eb5ed6e6e52",
   "metadata": {},
   "outputs": [],
   "source": []
  },
  {
   "cell_type": "code",
   "execution_count": null,
   "id": "4755d6ab-6e92-4f70-8031-47884d1daf2e",
   "metadata": {},
   "outputs": [],
   "source": []
  },
  {
   "cell_type": "markdown",
   "id": "static-identifier",
   "metadata": {},
   "source": []
  },
  {
   "cell_type": "code",
   "execution_count": null,
   "id": "excited-bikini",
   "metadata": {},
   "outputs": [],
   "source": [
    "my_target = \"GJ 86 A\""
   ]
  },
  {
   "cell_type": "code",
   "execution_count": null,
   "id": "industrial-marking",
   "metadata": {},
   "outputs": [],
   "source": [
    "print(\"SCIFYsim version: \", sf.version)\n",
    "sf.logit.setLevel(sf.logging.ERROR)\n",
    "t_exp =1.\n",
    "seed = 10\n",
    "expname = \"R400_base_sensitivity\"\n",
    "save_results = False"
   ]
  },
  {
   "cell_type": "code",
   "execution_count": null,
   "id": "sublime-recognition",
   "metadata": {},
   "outputs": [],
   "source": [
    "configfile = \"config/default_R400.ini\""
   ]
  },
  {
   "cell_type": "code",
   "execution_count": null,
   "id": "operating-toddler",
   "metadata": {},
   "outputs": [],
   "source": [
    "asim = sf.utilities.prepare_all(configfile, thetarget=my_target, update_params=True,\n",
    "                  instrumental_errors=True, seed=seed, update_start_end=False)\n",
    "asim.combiner.chromatic_matrix(asim.lambda_science_range)"
   ]
  },
  {
   "cell_type": "code",
   "execution_count": null,
   "id": "1f0cef25-bcdf-4955-96a6-63297c71d055",
   "metadata": {},
   "outputs": [],
   "source": [
    "asim.context = sf.analysis.spectral_context(asim.config)#(\"config/vega_R400.ini\")"
   ]
  },
  {
   "cell_type": "code",
   "execution_count": null,
   "id": "graduate-protein",
   "metadata": {},
   "outputs": [],
   "source": [
    "diffuse = [asim.src.sky, asim.src.UT, asim.src.warm_optics, asim.src.combiner, asim.src.cold_optics]\n"
   ]
  },
  {
   "cell_type": "markdown",
   "id": "collective-energy",
   "metadata": {
    "tags": []
   },
   "source": [
    "# Making some exposure\n",
    "\n",
    "## First, point the instrument to your target"
   ]
  },
  {
   "cell_type": "code",
   "execution_count": null,
   "id": "gorgeous-treat",
   "metadata": {},
   "outputs": [],
   "source": [
    "asim.point(asim.sequence[3], asim.target)"
   ]
  },
  {
   "cell_type": "markdown",
   "id": "efficient-plaintiff",
   "metadata": {},
   "source": [
    "## Then you can start an integration"
   ]
  },
  {
   "cell_type": "code",
   "execution_count": null,
   "id": "iraqi-retrieval",
   "metadata": {},
   "outputs": [],
   "source": [
    "integ = asim.make_metrologic_exposure(asim.src.planet, asim.src.star, diffuse,\n",
    "                                      texp=t_exp)\n",
    "integ.prepare_t_exp_base()\n",
    "\n",
    "integ.consolidate_metrologic()"
   ]
  },
  {
   "cell_type": "markdown",
   "id": "english-nothing",
   "metadata": {},
   "source": [
    "## Nice view of the results"
   ]
  },
  {
   "cell_type": "code",
   "execution_count": null,
   "id": "younger-surfing",
   "metadata": {},
   "outputs": [],
   "source": [
    "shift_step = 1/(asim.n_spec_ch+2)\n",
    "outputs = np.arange(integ.summed_signal.shape[2])\n",
    "isources = np.arange(len(integ.sums))\n",
    "raw_sources = [integ.static[0], integ.static[1],\n",
    "               integ.static[2], integ.static[3],\n",
    "               integ.static, integ.starlight, integ.planetlight]"
   ]
  },
  {
   "cell_type": "code",
   "execution_count": null,
   "id": "numerical-array",
   "metadata": {},
   "outputs": [],
   "source": [
    "bottom = np.zeros_like(integ.sums[0])\n",
    "pup = 1 # The pupil for which to plot the piston\n",
    "print(integ.sums[0].shape)\n",
    "signalplot = plt.figure(dpi=100)\n",
    "bars = []\n",
    "read_noise = integ.ron\n",
    "for ksource, (thesource, label) in enumerate(zip(integ.sums, integ.source_labels)):\n",
    "    photon_noise = np.sqrt(thesource)\n",
    "    if ksource >= len(integ.static):\n",
    "        inst_noise = np.std(raw_sources[ksource], axis=0)\n",
    "    else:\n",
    "        inst_noise = np.zeros((asim.lambda_science_range.shape[0], outputs.shape[0]))\n",
    "    #print(\"Inst noise\", ksource,  inst_noise.mean(axis=0))\n",
    "    #print(\"Photon noise\", ksource, photon_noise.mean(axis=0))\n",
    "    noise = np.sqrt(photon_noise**2 + read_noise**2 + inst_noise**2)\n",
    "    for ilamb in range(asim.lambda_science_range.shape[0]):\n",
    "        #print(ksource, ilamb, label)\n",
    "        #pdb.set_trace()\n",
    "        if ilamb == 0:\n",
    "            bars.append(plt.bar(outputs+shift_step*ilamb, thesource[ilamb,:], bottom=bottom[ilamb,:],\n",
    "                label=label, width=shift_step, color=\"C%d\"%ksource)) #yerr=noise[ilamb,:]\n",
    "        else:\n",
    "            bars.append(plt.bar(outputs+shift_step*ilamb, thesource[ilamb,:], bottom=bottom[ilamb,:],\n",
    "                width=shift_step,  color=\"C%d\"%ksource)) #yerr=noise[ilamb,:]\n",
    "    bottom += thesource\n",
    "#plt.legend((bars[i][0] for i in range(len(bars))), source_labels)\n",
    "#Handled the legend with an condition in the loop\n",
    "plt.legend(loc=\"upper left\")\n",
    "plt.xticks(outputs)\n",
    "plt.xlabel(r\"Output and spectral channel %.1f to %.1f $\\mu m$ ($R\\approx %.0f$)\"%(asim.lambda_science_range[0]*1e6,\n",
    "                                                                                 asim.lambda_science_range[-1]*1e6,\n",
    "                                                                                 asim.R.mean()))\n",
    "plt.title(\"Integration of %.2f s on %s\"%(t_exp, asim.tarname))\n",
    "plt.ylabel(\"Number of photons\")\n",
    "plt.show()"
   ]
  },
  {
   "cell_type": "code",
   "execution_count": null,
   "id": "f4a773f5-e3c6-49b1-89fc-3b051c6702c6",
   "metadata": {},
   "outputs": [],
   "source": []
  },
  {
   "cell_type": "markdown",
   "id": "leading-windsor",
   "metadata": {},
   "source": [
    "## Standard exposure\n"
   ]
  },
  {
   "cell_type": "code",
   "execution_count": null,
   "id": "complete-bibliography",
   "metadata": {},
   "outputs": [],
   "source": [
    "dit = 1."
   ]
  },
  {
   "cell_type": "code",
   "execution_count": null,
   "id": "entire-council",
   "metadata": {},
   "outputs": [],
   "source": [
    "integ = asim.make_exposure(asim.src.planet, asim.src.star, diffuse,\n",
    "                                texp=dit,\n",
    "                                monitor_phase=False,\n",
    "                               spectro=asim.spectro)"
   ]
  },
  {
   "cell_type": "code",
   "execution_count": null,
   "id": "hearing-ordinary",
   "metadata": {},
   "outputs": [],
   "source": [
    "from tqdm import tqdm\n",
    "n_frames = 100\n",
    "mynpix = 8\n",
    "diffuse = [asim.src.sky, asim.src.UT, asim.src.warm_optics, asim.src.combiner, asim.src.cold_optics]\n",
    "screen_age = 0.\n",
    "reveta = 1/integ.eta\n",
    "full_record = True\n",
    "datacube = []\n",
    "dit_intensity = []\n",
    "starlights = []\n",
    "planetlights = []\n",
    "for i in tqdm(range(n_frames)):\n",
    "    if screen_age>=20. :\n",
    "        print(\"generating screen\")\n",
    "        asim.injector.update_screens()\n",
    "        screen_age = 0.\n",
    "    integ = asim.make_exposure(asim.src.planet, asim.src.star, diffuse,\n",
    "                                texp=dit,\n",
    "                                monitor_phase=False,\n",
    "                               spectro=None)\n",
    "    datacube.append(integ.get_total(spectrograph=None,\n",
    "                                    t_exp=dit,\n",
    "                                    n_pixsplit=mynpix))\n",
    "    dit_intensity.append(reveta * integ.forensics[\"Expectancy\"].sum(axis=0))\n",
    "    if full_record:\n",
    "        starlights.append(integ.starlight.astype(np.float32))\n",
    "        planetlights.append(integ.planetlight.astype(np.float32))\n",
    "    integ.reset() # This can be removed after new kernel start\n",
    "    screen_age += dit\n",
    "datacube = np.array(datacube)\n",
    "dit_intensity = np.array(dit_intensity)\n",
    "starlights = np.array(starlights)\n",
    "planetlights = np.array(planetlights)"
   ]
  },
  {
   "cell_type": "markdown",
   "id": "charged-certificate",
   "metadata": {},
   "source": [
    "## The combiner matrix"
   ]
  },
  {
   "cell_type": "code",
   "execution_count": null,
   "id": "middle-implementation",
   "metadata": {},
   "outputs": [],
   "source": [
    "\n",
    "plt.style.use(\"default\")"
   ]
  },
  {
   "cell_type": "code",
   "execution_count": null,
   "id": "binding-equation",
   "metadata": {},
   "outputs": [],
   "source": [
    "from kernuller.diagrams import plot_chromatic_matrix\n",
    "fig, axs, matrix = plot_chromatic_matrix(asim.combiner.M,\n",
    "                                         sf.combiners.lamb, asim.lambda_science_range,\n",
    "                                         verbose=False, returnmatrix=True,minfrac=0.9,\n",
    "                                         plotout=True, show=False, title=\"With Tepper couplers\")"
   ]
  },
  {
   "cell_type": "code",
   "execution_count": null,
   "id": "alleged-contemporary",
   "metadata": {},
   "outputs": [],
   "source": [
    "nul_plot, cmp_plot, bar_plot, shape_plot =\\\n",
    "        sf.plot_tools.plot_corrector_tuning_angel_woolf(asim.corrector, asim.lambda_science_range, asim.combiner)"
   ]
  },
  {
   "cell_type": "code",
   "execution_count": null,
   "id": "2dded904-1f7c-450d-ad2b-b7da5dd43156",
   "metadata": {},
   "outputs": [],
   "source": [
    "asim.point(asim.sequence[3], asim.target)"
   ]
  },
  {
   "cell_type": "code",
   "execution_count": null,
   "id": "6b707369-e948-4c37-b806-80d81f60c594",
   "metadata": {},
   "outputs": [],
   "source": [
    "from kernuller import pairwise_kernel\n",
    "ak = pairwise_kernel(2)\n",
    "myk = np.hstack((np.zeros((1,3)), ak, np.zeros((1,3))))\n",
    "asim.combiner.K = myk\n",
    "\n",
    "\n",
    "diffobs = np.einsum(\"ij, mkj->mk\",asim.combiner.K, dit_intensity)\n",
    "diff_std = np.std(diffobs, axis=0)"
   ]
  },
  {
   "cell_type": "code",
   "execution_count": null,
   "id": "3c211c94-b538-45de-bdc5-1bac62fa55ad",
   "metadata": {},
   "outputs": [],
   "source": [
    "integ.reset()\n",
    "integ = asim.make_exposure(asim.src.planet, asim.src.star, diffuse,\n",
    "                                texp=dit,\n",
    "                                monitor_phase=False,\n",
    "                               spectro=None)\n",
    "block = integ.get_total(spectrograph=None,t_exp=dit, n_pixsplit=mynpix)\n",
    "print(f\"datacube shape: {datacube.shape}\")\n",
    "print(f\"dit = {dit} s\")\n",
    "brigh_max = np.max(np.mean(integ.forensics[\"Expectancy\"][:,:,asim.combiner.bright], axis=0))\n",
    "dark_max = np.max(np.mean(integ.forensics[\"Expectancy\"][:,:,asim.combiner.dark], axis=0))\n",
    "longest_exp_bright = 65000 / (brigh_max/dit)\n",
    "longest_exp_dark = 65000 / (dark_max/dit)\n",
    "print(f\"Bright limit: {longest_exp_bright:.2f} s\\n Dark limit: {longest_exp_dark:.2f} s\")\n",
    "data_std = np.std(datacube, axis=0)\n",
    "diff_std = np.std(datacube[:,:,3]-datacube[:,:,4], axis=0)\n",
    "\n",
    "integ.static = asim.computed_static\n",
    "integ.mean_starlight = np.mean(starlights, axis=0)\n",
    "integ.mean_planetlight = np.mean(planetlights, axis=0)\n",
    "integ.mean_intensity = np.mean(dit_intensity, axis=0)"
   ]
  },
  {
   "cell_type": "code",
   "execution_count": null,
   "id": "aae3937d-4ab6-443d-9f71-1ab87e0e6490",
   "metadata": {},
   "outputs": [],
   "source": [
    "mkdir /tmp/plots"
   ]
  },
  {
   "cell_type": "code",
   "execution_count": null,
   "id": "ce710e1e-5666-4ed2-8883-d029850c2bc9",
   "metadata": {},
   "outputs": [],
   "source": [
    "prof = sf.analysis.noiseprofile(integ, asim, diffobs, n_pixsplit=mynpix)\n",
    "fig = prof.plot_noise_sources(asim.lambda_science_range, dit=1., show=False,\n",
    "                             ymin=0.2, ymax=1.)\n",
    "plt.legend(loc=\"upper right\", fontsize=\"xx-small\")\n",
    "\n",
    "plt.savefig(\"/tmp/plots/noises.pdf\", bbox_inches='tight', dpi=200)\n",
    "plt.show()"
   ]
  },
  {
   "cell_type": "markdown",
   "id": "04d3f3cc-38ef-481f-b981-713f70ad470b",
   "metadata": {
    "tags": []
   },
   "source": [
    "# Building a correlation map"
   ]
  },
  {
   "cell_type": "markdown",
   "id": "5718bd0b-31bf-4f3f-bdb3-81df89697a72",
   "metadata": {},
   "source": [
    "## Dealing with the noise:\n",
    "\n",
    "This is to take into account the noise in your observation data. You should adjust it depending on your observation case"
   ]
  },
  {
   "cell_type": "code",
   "execution_count": null,
   "id": "803772eb-2b4d-4e80-944b-f614398f6230",
   "metadata": {},
   "outputs": [],
   "source": [
    "from scipy.linalg import sqrtm\n",
    "ndits = 100 # the number of dits taken within each chunk. (at R=400 dit~2s)\n",
    "adit = 2.   # The value of dit\n",
    "starmag = 4. # Magnitude of the star\n",
    "             # Can also be obtained from `asim.context.get_mags_of_sim(asim)` which gives both\n",
    "             # star and planet mag based on `asim.src`\n",
    "amat = 1/ndits * prof.diff_noise_floor_dit(starmag, adit, matrix=True)\n",
    "wmat = sqrtm(np.linalg.inv(amat))\n",
    "whitenings = np.ones(len(asim.sequence))[:,None,None]*wmat[None,:,:]"
   ]
  },
  {
   "cell_type": "markdown",
   "id": "176803ec-29d0-4f9c-9935-f09008aa2b48",
   "metadata": {},
   "source": [
    "## Creating some signal\n",
    "\n",
    "Do not use this cell if you are creating your data separately.\n",
    "\n",
    "This is a simplistic model with synthetic noise and straight signal propagation.\n",
    "\n",
    "To be more thorough, one would use direct MC simulations."
   ]
  },
  {
   "cell_type": "code",
   "execution_count": null,
   "id": "cb722674-799d-480f-b292-fa984a77000e",
   "metadata": {},
   "outputs": [],
   "source": [
    "noise = np.random.multivariate_normal(mean=np.zeros(amat.shape[0]), cov=amat, size=(len(asim.sequence),1))\n",
    "\n",
    "from lmfit import Parameters\n",
    "from einops import rearrange\n",
    "\n",
    "master_params = Parameters()\n",
    "master_params.add(\"Sep\", value = 5.) # in [mas]\n",
    "master_params.add(\"PA\", value=45.) # in [deg] East of North\n",
    "master_params.add(\"Temperature\", value=1012) # in K\n",
    "master_params.add(\"Radius\", value=0.09) # in R_sun\n",
    "\n",
    "\n",
    "master_source = sf.analysis.make_source(master_params, asim.lambda_science_range, asim.src.distance)\n",
    "master_light = sf.analysis.make_th_exps(asim, adit, master_source, diffuse, obs=asim.obs)\n",
    "master_diff = np.einsum(\"k o, n w o -> n w k\", asim.combiner.K, master_light)\n",
    "\n",
    "noised_observation = master_diff + rearrange(noise, \"nblock nk nwl -> nblock nwl nk\")"
   ]
  },
  {
   "cell_type": "markdown",
   "id": "806765a9-d46d-4768-aacd-8419999fb318",
   "metadata": {},
   "source": [
    "## Creating the correlation map"
   ]
  },
  {
   "cell_type": "code",
   "execution_count": null,
   "id": "5da61b47-8220-4be4-b2bb-f08ea31c9a34",
   "metadata": {},
   "outputs": [],
   "source": [
    "asim.build_all_maps_dask(mapres=100, mapcrop=0.3)\n",
    "bymap = sf.utilities.extract_diffobs_map(asim.maps, asim, dit=adit,\n",
    "                            postprod=None, eta=asim.integrator.eta)\n",
    "#full_wmat = np.ones(bymap.shape[0])[:,None,None]*wmat[None,:,:]\n",
    "cmap, xtx_map = sf.analysis.correlation_map(noised_observation, bymap.compute(),\n",
    "                            postproc=whitenings,\n",
    "                            K=asim.combiner.K[None,:], n_diffobs=1)\n",
    "norm_map = cmap/np.sqrt(xtx_map)"
   ]
  },
  {
   "cell_type": "markdown",
   "id": "6ff2967f-17b9-4dc1-ae62-b08d2b2a84e6",
   "metadata": {
    "tags": []
   },
   "source": [
    "## Locating the Maximum and plotting the result\n",
    "\n",
    "Note that there is still a problem for the display of direction, as here, RA is increasing from left to right and not from right to left."
   ]
  },
  {
   "cell_type": "code",
   "execution_count": null,
   "id": "7328733b-b5ac-475d-828d-a35be4c4cbe4",
   "metadata": {},
   "outputs": [],
   "source": [
    "cont = np.quantile(norm_map, 0.9995)\n",
    "loc_norm_map = sf.utilities.get_location(norm_map, asim.map_extent, mode=\"cartesian\")"
   ]
  },
  {
   "cell_type": "code",
   "execution_count": null,
   "id": "d31f616a-ad81-4f49-837c-65e6da246039",
   "metadata": {},
   "outputs": [],
   "source": [
    "plt.figure(dpi=200)\n",
    "#plt.subplot(121)\n",
    "#plt.imshow(cmap, extent=asim.map_extent)\n",
    "#make_cursor(loc_cmap, 3, linewidth=2.)\n",
    "#plt.colorbar()\n",
    "#plt.title(f\"Raw map $\\\\mathbf{{y}}^T\\mathbf{{x}}$\")\n",
    "#plt.subplot(122)\n",
    "plt.imshow(norm_map, extent=asim.map_extent, origin=\"lower\")\n",
    "plt.colorbar()\n",
    "plt.contour(norm_map, levels=[cont,], extent=asim.map_extent, origin=\"lower\")\n",
    "sf.plot_tools.make_cursor(loc_norm_map, 3, linewidth=2., flipy=False)\n",
    "plt.title(f\"Correlation map $\\\\frac{{\\mathbf{{y}}^T\\mathbf{{x}}}}{{\\\\sqrt{{\\mathbf{{x}}^T\\mathbf{{x}}}}}}$\")\n",
    "plt.xlabel(\"RA [mas] (reversed)\")\n",
    "plt.ylabel(\"Dec [mas]\")\n",
    "plt.tight_layout()\n",
    "plt.show()"
   ]
  },
  {
   "cell_type": "code",
   "execution_count": null,
   "id": "6bc24faa-2cad-4a95-b974-283184662e0e",
   "metadata": {},
   "outputs": [],
   "source": []
  },
  {
   "cell_type": "code",
   "execution_count": null,
   "id": "38135a2b-f0d8-427b-9c27-08e001e69f6e",
   "metadata": {},
   "outputs": [],
   "source": []
  }
 ],
 "metadata": {
  "kernelspec": {
   "display_name": "Python 3 (ipykernel)",
   "language": "python",
   "name": "python3"
  },
  "language_info": {
   "codemirror_mode": {
    "name": "ipython",
    "version": 3
   },
   "file_extension": ".py",
   "mimetype": "text/x-python",
   "name": "python",
   "nbconvert_exporter": "python",
   "pygments_lexer": "ipython3",
   "version": "3.8.13"
  }
 },
 "nbformat": 4,
 "nbformat_minor": 5
}
