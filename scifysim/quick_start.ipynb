{
 "cells": [
  {
   "cell_type": "markdown",
   "id": "compatible-product",
   "metadata": {
    "tags": []
   },
   "source": [
    "# Getting started with SCIFYsim\n",
    "\n",
    "## Import the library"
   ]
  },
  {
   "cell_type": "code",
   "execution_count": null,
   "id": "above-turkish",
   "metadata": {},
   "outputs": [],
   "source": [
    "import scifysim as sf\n",
    "import numpy as np\n",
    "import matplotlib.pyplot as plt\n",
    "sf.logit.setLevel(sf.logging.ERROR)\n",
    "# optional (when using dark interfaces)\n",
    "#plt.style.use(\"dark_background\")\n",
    "save_results = False\n",
    "# Adapt to your operating system\n",
    "if save_results:\n",
    "    !mkdir /tmp/plots"
   ]
  },
  {
   "cell_type": "code",
   "execution_count": null,
   "id": "9da67f79-8890-461d-9dd7-92aacfd3eff3",
   "metadata": {},
   "outputs": [],
   "source": [
    "from scifysim.dummy import makesim"
   ]
  },
  {
   "cell_type": "markdown",
   "id": "dbdc9d81-4dcc-48af-8e0e-ba9a0a01eaf4",
   "metadata": {},
   "source": [
    "## Creating the simulator\n",
    "\n",
    "### Makesim\n",
    "\n",
    "The macro function `makesim` builds the simulator, based mostly on the configuration file given to it. Some parameters can be overwritten by the function, in particular the target, which is here given by name.\n",
    "\n",
    "### The configuration file\n",
    "\n",
    "The configuration file is made of different sections, constituting different families of parameter concerning the observatory, the atmosphere, the observing sequence, the detector, ect...\n",
    "\n",
    "In particular, an observing sequence is created given a start and end of sequence (`seq_start` and `seq_end`in `[target]`) and a number of points (`n_points` also in `[target]`), by default `update_start_end` is *True*, therefore the date will be updated to the best night to observe that target (highest elevation in the middle of the night).\n",
    "\n",
    "## Kernel matrix\n",
    "\n",
    "We also build a kernel matrix and store it to `asim.combiner.K`. This matrix will be used to create the relevant observables in use.\n"
   ]
  },
  {
   "cell_type": "code",
   "execution_count": null,
   "id": "e62a3cee-f052-4b06-beb2-b756a347eb9b",
   "metadata": {},
   "outputs": [],
   "source": [
    "asim = makesim(\"/home/romain/Documents/hi5/SCIFYsim/scifysim/config/default_R400.ini\",\n",
    "               target=\"Gl 86A\")\n",
    "\n",
    "from kernuller import pairwise_kernel\n",
    "ak = pairwise_kernel(2)\n",
    "myk = np.hstack((np.zeros((1,3)), ak, np.zeros((1,3))))\n",
    "asim.combiner.K = myk\n",
    "del ak\n",
    "del myk\n"
   ]
  },
  {
   "cell_type": "markdown",
   "id": "75d61636-aeb2-423e-9162-8165f68ec8ce",
   "metadata": {},
   "source": [
    "## Combination scheme\n",
    "\n",
    "The combination scheme is decided by by a keyword in the keyword `chromatic` in [configuration].\n",
    "\n",
    "The Combiner can also be overwritten with a new one. However, keep in mind that the chromatic tuning of the correctors must be done separately if you choose to do so."
   ]
  },
  {
   "cell_type": "code",
   "execution_count": null,
   "id": "dacd0c1b-e39c-42b5-85b8-82b5c3b85eaa",
   "metadata": {},
   "outputs": [],
   "source": [
    "from kernuller.diagrams import plot_chromatic_matrix, plot_outputs_smart\n",
    "# asim.combiner = sf.combiner.combiner.from_config(asim.config, ph_shifters=(0,-np.pi/2))\n",
    "# asim.combiner.chromatic_matrix(asim.lambda_science_range)\n",
    "# asim.point(asim.sequence[10], asim.target, refresh_array=True)\n",
    "\n",
    "fig1, axs = plot_outputs_smart(matrix = asim.combiner.Mcn[30])\n",
    "fig1.show()\n",
    "fig2, axs, matrix = plot_chromatic_matrix(asim.combiner.M,\n",
    "                                         sf.combiners.lamb, asim.lambda_science_range,\n",
    "                                         verbose=False, returnmatrix=True,minfrac=0.9,\n",
    "                                         plotout=True, show=False, title=\"With Tepper couplers\")\n",
    "fig2.show()"
   ]
  },
  {
   "cell_type": "code",
   "execution_count": null,
   "id": "cbb683b0-8873-494e-8eb2-0b0c5faf4420",
   "metadata": {},
   "outputs": [],
   "source": [
    "nul_plot, cmp_plot, bar_plot, shape_plot =\\\n",
    "        sf.plot_tools.plot_corrector_tuning_angel_woolf(asim.corrector, asim.lambda_science_range, asim.combiner)"
   ]
  },
  {
   "cell_type": "code",
   "execution_count": null,
   "id": "1bd0cb81-e089-4132-97fb-c82661aaec66",
   "metadata": {},
   "outputs": [],
   "source": [
    "asim.point(asim.sequence[3], asim.target)\n",
    "t_exp = 3."
   ]
  },
  {
   "cell_type": "markdown",
   "id": "92119ada-06ee-4fb1-88d7-aa7745f85ed6",
   "metadata": {},
   "source": [
    "## Then you can start an integration"
   ]
  },
  {
   "cell_type": "markdown",
   "id": "d5331d0f-2670-453d-b523-89c1ffcd9d39",
   "metadata": {},
   "source": [
    "# Resolved star\n",
    "\n",
    "* Resolved: 3 s/s\n",
    "* Unresolved 1.5 s/s"
   ]
  },
  {
   "cell_type": "code",
   "execution_count": null,
   "id": "3a1da49a-a768-4cf8-9e42-ffc6c4b44087",
   "metadata": {},
   "outputs": [],
   "source": [
    "integ = asim.make_metrologic_exposure(asim.src.planet, asim.src.star, asim.diffuse,\n",
    "                                      texp=0.1)\n",
    "integ.update_enclosure(asim.lambda_science_range,\n",
    "                       bottom_range=2.0e-6,\n",
    "                       top_range=2.6e-6)\n",
    "integ = asim.make_metrologic_exposure(asim.src.planet, asim.src.star, asim.diffuse,\n",
    "                                      texp=t_exp)\n",
    "\n",
    "integ.prepare_t_exp_base()\n",
    "\n",
    "integ.consolidate_metrologic()"
   ]
  },
  {
   "cell_type": "markdown",
   "id": "3e81ab48-3af2-4068-a1c2-28c69410259e",
   "metadata": {},
   "source": [
    "## Nice view of the results"
   ]
  },
  {
   "cell_type": "code",
   "execution_count": null,
   "id": "d8e1196b-ff89-4128-b3e6-115a62d110c8",
   "metadata": {},
   "outputs": [],
   "source": [
    "shift_step = 1/(asim.n_spec_ch+2)\n",
    "outputs = np.arange(integ.summed_signal.shape[2])\n",
    "isources = np.arange(len(integ.sums))\n",
    "raw_sources = [integ.static[0], integ.static[1],\n",
    "               integ.static[2], integ.static[3],\n",
    "               integ.static, integ.starlight, integ.planetlight]\n",
    "diffuse = asim.diffuse"
   ]
  },
  {
   "cell_type": "code",
   "execution_count": null,
   "id": "84c413fc-9092-4e71-992a-65ee4b44b663",
   "metadata": {},
   "outputs": [],
   "source": [
    "print(\"Number of photons for the 2 dark outputs\")\n",
    "for i, label in enumerate(integ.source_labels):\n",
    "    #print(label + \" %.1e [ph/s]\"%(integ.sums[i].sum()))\n",
    "    detail = integ.sums[i].sum(axis=0)[1] * integ.eta\n",
    "    print(label + \"    %.1e  [e-/s]\"%(detail ))\n",
    "for i, label in enumerate(integ.det_labels):\n",
    "    #print(label + \" %.1e [ph/s]\"%(integ.sums[i].sum()))\n",
    "    detail = integ.det_sources[i].sum(axis=0)\n",
    "    print(label + \"    %.1e   [e-/s]\"%(detail) )\n",
    "\n",
    "print(\"\")\n",
    "fav_output = 1\n",
    "mynpix = asim.config.getfloat(\"spectrograph\", \"n_pix_split\")\n",
    "supsum = np.nan_to_num(np.array(integ.sums))\n",
    "print(f\"In total on output {fav_output}: {supsum.sum(axis=(0,1))[fav_output]:.2e} [e-/s]\")\n",
    "maxbin = np.max(supsum.sum(axis=0), axis=0)\n",
    "\n",
    "# To be portable per for different resolutions:\n",
    "max_density = maxbin/np.gradient(asim.lambda_science_range).mean()\n",
    "print(f\"In total on output {fav_output}: {max_density[fav_output]:.2e} [e-/s/m]\")\n",
    "\n",
    "fig = sf.plot_tools.plot_output_sources(asim, integ, asim.lambda_science_range, t_exp=1.)\n",
    "\n",
    "print()\n",
    "print()\n",
    "print(f\"\\\\hline\")\n",
    "print(f\"\\\\hline\")\n",
    "print(\"Source & Temperature & Mean transmission & Contribution\\\\tablefootmark{a}\\\\\\\\ \")\n",
    "print(f\" & [K] & & $[e^- s^{-1}]$\\\\\\\\\")\n",
    "print(f\"\\\\hline\")\n",
    "for i, (asource,aname) in enumerate(zip(diffuse, integ.static_list)):\n",
    "    pass\n",
    "    # print(f\"{aname} & {asource.T:.1f} & {asource.trans(asim.lambda_science_range).mean():.2f} & {integ.sums[i].sum(axis=0)[3]:.2e} \\\\\\\\\")\n",
    "\n",
    "print(f\"Enclosure & {integ.enclosure.T:.1f} & N.A. & {integ.det_sources[0].sum():.2e} \\\\\\\\\")\n",
    "print(f\"Dark current & {60.:.1f} & N.A. & {integ.det_sources[1]*integ.det_sources[0].shape[0]:.2e} \\\\\\\\\")\n",
    "print(f\"\\\\hline\")\n",
    "\n",
    "print(f\"\\\\tablefoot{{\")\n",
    "print(f\"\\\\tablefoottext{{a}}{{On one dark output, cumulated over all wavelength bands}}\")\n",
    "print(f\"\\\\tablefoottext{{b}}{{For R=400}}\")    \n",
    "print(f\"}}\")\n",
    "    "
   ]
  },
  {
   "cell_type": "markdown",
   "id": "57ede0c1-c6f7-45b6-990e-02225f5b569e",
   "metadata": {},
   "source": [
    "Beam-combination scheme"
   ]
  },
  {
   "cell_type": "markdown",
   "id": "79bfaa84-2e48-4f9e-9c41-9fb1c97354e2",
   "metadata": {},
   "source": [
    "# Maps\n",
    "\n",
    "## Description\n",
    "The transmission maps are an important way to interface with the simulator. The maps represent the entire transmission of the instrument as a function of the relative position in the field of view. More precisely, they represent the equivalent collecting power of the whole observatory setup.\n",
    "\n",
    "In `<simulator>.maps`, the values are stored in $m^2/sr$ representing where the solid angle prepresent the area of a pixel. It has shape $n_{chunks}, n_{chanels}, n_{outputs}, n_{pix}, n_{pix}$\n",
    "\n",
    "For convenience, a property is available as an astropy quantity under `<simulator>.gain_map`, with units $m^2 e^-/ph$, as it includes the effect of quantum efficiency.\n",
    "\n",
    "## Alternative backend\n",
    "The maps can grow large in memory. SCIFYsim offers an alternative backend using **Dask**. [Dask](https://www.dask.org/) is a lazy and out-of-core library based of numpy. It breaks down the maps in smaller chunks and computes only at the last moment, when simplifications can be made. It can be called with `<simulator>.build_all_maps_dask`"
   ]
  },
  {
   "cell_type": "code",
   "execution_count": null,
   "id": "f2001062-53b5-4b51-aeff-b4878e9a5acd",
   "metadata": {},
   "outputs": [],
   "source": [
    "%%time\n",
    "asim.build_all_maps(mapres=200, mapcrop=0.5)"
   ]
  },
  {
   "cell_type": "code",
   "execution_count": null,
   "id": "edb4f86a-4247-493d-99ca-f9e0df11f70d",
   "metadata": {},
   "outputs": [],
   "source": [
    "asim.maps.shape"
   ]
  },
  {
   "cell_type": "code",
   "execution_count": null,
   "id": "523341e9-edaf-461b-b622-49b453d66512",
   "metadata": {},
   "outputs": [],
   "source": [
    "print(asim.gain_map.shape)\n",
    "print(asim.gain_map.unit)"
   ]
  },
  {
   "cell_type": "code",
   "execution_count": null,
   "id": "f6a3d4c0-5ce9-475c-9b13-b80e3d4dbb3e",
   "metadata": {},
   "outputs": [],
   "source": [
    "fig = sf.plot_tools.plot_response_map(asim, sequence_index=[0],\n",
    "                                outputs=np.array([3,4]),\n",
    "                                dpi=200, layout=\"v\", show=False,\n",
    "                                     figsize=(3,8))\n",
    "plt.tight_layout()\n",
    "plt.show()"
   ]
  },
  {
   "cell_type": "markdown",
   "id": "afb5213f-32e1-4fce-aef8-16537fd78c4e",
   "metadata": {},
   "source": [
    "# Regular integrations"
   ]
  },
  {
   "cell_type": "code",
   "execution_count": null,
   "id": "complete-bibliography",
   "metadata": {},
   "outputs": [],
   "source": [
    "dit = 1."
   ]
  },
  {
   "cell_type": "code",
   "execution_count": null,
   "id": "entire-council",
   "metadata": {},
   "outputs": [],
   "source": [
    "integ = asim.make_exposure(asim.src.planet, asim.src.star, diffuse,\n",
    "                                texp=dit,\n",
    "                                monitor_phase=False,\n",
    "                               spectro=asim.spectro)"
   ]
  },
  {
   "cell_type": "markdown",
   "id": "b7f2f21d-6cc3-4a18-9dc7-e77d03df2641",
   "metadata": {},
   "source": [
    "Compute a large number of frames to obtain an estimate of the errors"
   ]
  },
  {
   "cell_type": "code",
   "execution_count": null,
   "id": "hearing-ordinary",
   "metadata": {},
   "outputs": [],
   "source": [
    "from tqdm import tqdm\n",
    "n_frames = 100\n",
    "mynpix = 8\n",
    "diffuse = [asim.src.sky, asim.src.UT, asim.src.warm_optics, asim.src.combiner, asim.src.cold_optics]\n",
    "screen_age = 0.\n",
    "reveta = 1/integ.eta\n",
    "full_record = True\n",
    "datacube = []\n",
    "dit_intensity = []\n",
    "starlights = []\n",
    "planetlights = []\n",
    "for i in tqdm(range(n_frames)):\n",
    "    if screen_age>=20. :\n",
    "        print(\"generating screen\")\n",
    "        asim.injector.update_screens()\n",
    "        screen_age = 0.\n",
    "    integ = asim.make_exposure(asim.src.planet, asim.src.star, diffuse,\n",
    "                                texp=dit,\n",
    "                                monitor_phase=False,\n",
    "                               spectro=None)\n",
    "    datacube.append(integ.get_total(spectrograph=None,\n",
    "                                    t_exp=dit,\n",
    "                                    n_pixsplit=mynpix))\n",
    "    dit_intensity.append(reveta * integ.forensics[\"Expectancy\"].sum(axis=0))\n",
    "    if full_record:\n",
    "        starlights.append(integ.starlight.astype(np.float32))\n",
    "        planetlights.append(integ.planetlight.astype(np.float32))\n",
    "    integ.reset() # This can be removed after new kernel start\n",
    "    screen_age += dit\n",
    "datacube = np.array(datacube)\n",
    "dit_intensity = np.array(dit_intensity)\n",
    "starlights = np.array(starlights)\n",
    "planetlights = np.array(planetlights)"
   ]
  },
  {
   "cell_type": "markdown",
   "id": "42b768b6-dd70-4a00-bd0d-65163442e02c",
   "metadata": {},
   "source": [
    "## The combiner matrix"
   ]
  },
  {
   "cell_type": "code",
   "execution_count": null,
   "id": "2dded904-1f7c-450d-ad2b-b7da5dd43156",
   "metadata": {},
   "outputs": [],
   "source": [
    "asim.point(asim.sequence[3], asim.target)"
   ]
  },
  {
   "cell_type": "code",
   "execution_count": null,
   "id": "6b707369-e948-4c37-b806-80d81f60c594",
   "metadata": {},
   "outputs": [],
   "source": [
    "from kernuller import pairwise_kernel\n",
    "ak = pairwise_kernel(2)\n",
    "myk = np.hstack((np.zeros((1,3)), ak, np.zeros((1,3))))\n",
    "asim.combiner.K = myk\n",
    "\n",
    "\n",
    "diffobs = np.einsum(\"ij, mkj->mk\",asim.combiner.K, dit_intensity)\n",
    "diff_std = np.std(diffobs, axis=0)"
   ]
  },
  {
   "cell_type": "code",
   "execution_count": null,
   "id": "3c211c94-b538-45de-bdc5-1bac62fa55ad",
   "metadata": {},
   "outputs": [],
   "source": [
    "integ.reset()\n",
    "integ = asim.make_exposure(asim.src.planet, asim.src.star, diffuse,\n",
    "                                texp=dit,\n",
    "                                monitor_phase=False,\n",
    "                               spectro=None)\n",
    "block = integ.get_total(spectrograph=None,t_exp=dit, n_pixsplit=mynpix)\n",
    "print(f\"datacube shape: {datacube.shape}\")\n",
    "print(f\"dit = {dit} s\")\n",
    "brigh_max = np.max(np.mean(integ.forensics[\"Expectancy\"][:,:,asim.combiner.bright], axis=0))\n",
    "dark_max = np.max(np.mean(integ.forensics[\"Expectancy\"][:,:,asim.combiner.dark], axis=0))\n",
    "longest_exp_bright = 65000 / (brigh_max/dit)\n",
    "longest_exp_dark = 65000 / (dark_max/dit)\n",
    "print(f\"Bright limit: {longest_exp_bright:.2f} s\\n Dark limit: {longest_exp_dark:.2f} s\")\n",
    "data_std = np.std(datacube, axis=0)\n",
    "diff_std = np.std(datacube[:,:,3]-datacube[:,:,4], axis=0)\n",
    "\n",
    "integ.static = asim.computed_static\n",
    "integ.mean_starlight = np.mean(starlights, axis=0)\n",
    "integ.mean_planetlight = np.mean(planetlights, axis=0)\n",
    "integ.mean_intensity = np.mean(dit_intensity, axis=0)"
   ]
  },
  {
   "cell_type": "code",
   "execution_count": null,
   "id": "aae3937d-4ab6-443d-9f71-1ab87e0e6490",
   "metadata": {},
   "outputs": [],
   "source": []
  },
  {
   "cell_type": "code",
   "execution_count": null,
   "id": "ce710e1e-5666-4ed2-8883-d029850c2bc9",
   "metadata": {},
   "outputs": [],
   "source": [
    "prof = sf.analysis.noiseprofile(integ, asim, diffobs, n_pixsplit=mynpix)\n",
    "fig = prof.plot_noise_sources(asim.lambda_science_range, dit=1., show=False,\n",
    "                             ymin=0.2, ymax=1.)\n",
    "plt.legend(loc=\"upper right\", fontsize=\"xx-small\")\n",
    "\n",
    "if save_results:\n",
    "    plt.savefig(\"/tmp/plots/noises.pdf\", bbox_inches='tight', dpi=200)\n",
    "plt.show()"
   ]
  },
  {
   "cell_type": "code",
   "execution_count": null,
   "id": "78187753-56b8-4d37-b8f5-ea1e6efdb819",
   "metadata": {},
   "outputs": [],
   "source": []
  },
  {
   "cell_type": "code",
   "execution_count": null,
   "id": "c748ee33-f717-420c-893a-1a136d8df642",
   "metadata": {},
   "outputs": [],
   "source": []
  },
  {
   "cell_type": "code",
   "execution_count": null,
   "id": "915122e5-a981-4f29-a4f6-20d03cdbea8d",
   "metadata": {},
   "outputs": [],
   "source": []
  },
  {
   "cell_type": "code",
   "execution_count": null,
   "id": "f264df9f-baaa-48ee-963a-14f02f47d030",
   "metadata": {},
   "outputs": [],
   "source": []
  }
 ],
 "metadata": {
  "kernelspec": {
   "display_name": "Python 3 (ipykernel)",
   "language": "python",
   "name": "python3"
  },
  "language_info": {
   "codemirror_mode": {
    "name": "ipython",
    "version": 3
   },
   "file_extension": ".py",
   "mimetype": "text/x-python",
   "name": "python",
   "nbconvert_exporter": "python",
   "pygments_lexer": "ipython3",
   "version": "3.8.13"
  }
 },
 "nbformat": 4,
 "nbformat_minor": 5
}
