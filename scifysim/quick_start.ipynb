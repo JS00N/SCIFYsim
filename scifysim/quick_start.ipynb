{
 "cells": [
  {
   "cell_type": "markdown",
   "id": "hazardous-pendant",
   "metadata": {},
   "source": [
    "# Getting started with SCIFYsim\n",
    "\n",
    "## Import the library"
   ]
  },
  {
   "cell_type": "code",
   "execution_count": null,
   "id": "cultural-hungarian",
   "metadata": {},
   "outputs": [],
   "source": [
    "import scifysim as sf\n",
    "import numpy as np\n",
    "import matplotlib.pyplot as plt\n",
    "# optional (when using dark interfaces)\n",
    "plt.style.use(\"dark_background\")"
   ]
  },
  {
   "cell_type": "code",
   "execution_count": null,
   "id": "apart-isaac",
   "metadata": {},
   "outputs": [],
   "source": [
    "my_target = \"GJ 86 A\""
   ]
  },
  {
   "cell_type": "code",
   "execution_count": null,
   "id": "southern-basement",
   "metadata": {},
   "outputs": [],
   "source": [
    "print(\"SCIFYsim version: \", sf.version)\n",
    "sf.logit.setLevel(sf.logging.ERROR)\n",
    "t_exp =1.\n",
    "seed = 10\n",
    "expname = \"R2000_base_sensitivity\"\n",
    "save_results = False"
   ]
  },
  {
   "cell_type": "code",
   "execution_count": null,
   "id": "negative-disaster",
   "metadata": {},
   "outputs": [],
   "source": [
    "pradii = np.linspace(0.1,3.,3)\n",
    "#pradii = 1.0*np.ones(5)"
   ]
  },
  {
   "cell_type": "code",
   "execution_count": null,
   "id": "interstate-yukon",
   "metadata": {},
   "outputs": [],
   "source": [
    "configfile = \"config/chromatic_R2000.ini\""
   ]
  },
  {
   "cell_type": "code",
   "execution_count": null,
   "id": "boring-there",
   "metadata": {},
   "outputs": [],
   "source": [
    "asim = sf.utilities.prepare_all(configfile, thetarget=my_target, update_params=True,\n",
    "                  instrumental_errors=True, seed=seed)\n",
    "asim.combiner.chromatic_matrix(asim.lambda_science_range)"
   ]
  },
  {
   "cell_type": "code",
   "execution_count": null,
   "id": "median-bishop",
   "metadata": {},
   "outputs": [],
   "source": [
    "diffuse = [asim.src.sky, asim.src.UT, asim.src.warm_optics, asim.src.combiner, asim.src.cold_optics]\n"
   ]
  },
  {
   "cell_type": "markdown",
   "id": "collaborative-glenn",
   "metadata": {},
   "source": [
    "# Making some exposure\n",
    "\n",
    "## First, point the instrument to your target"
   ]
  },
  {
   "cell_type": "code",
   "execution_count": null,
   "id": "unique-bulgaria",
   "metadata": {},
   "outputs": [],
   "source": [
    "asim.point(asim.sequence[3], asim.target)"
   ]
  },
  {
   "cell_type": "markdown",
   "id": "downtown-reservation",
   "metadata": {},
   "source": [
    "## Then you can start an integration"
   ]
  },
  {
   "cell_type": "code",
   "execution_count": null,
   "id": "administrative-silence",
   "metadata": {},
   "outputs": [],
   "source": [
    "integ = asim.make_metrologic_exposure(asim.src.planet, asim.src.star, diffuse,\n",
    "                                      texp=t_exp)\n",
    "integ.prepare_t_exp_base()\n",
    "#consolidate_metrologic(integ)\n",
    "integ.consolidate_metrologic()"
   ]
  },
  {
   "cell_type": "markdown",
   "id": "featured-today",
   "metadata": {},
   "source": [
    "## Nice view of the results"
   ]
  },
  {
   "cell_type": "code",
   "execution_count": null,
   "id": "unknown-manner",
   "metadata": {},
   "outputs": [],
   "source": [
    "shift_step = 1/(asim.n_spec_ch+2)\n",
    "outputs = np.arange(integ.summed_signal.shape[2])\n",
    "isources = np.arange(len(integ.sums))\n",
    "raw_sources = [integ.static[0], integ.static[1],\n",
    "               integ.static[2], integ.static[3],\n",
    "               integ.static, integ.starlight, integ.planetlight]"
   ]
  },
  {
   "cell_type": "code",
   "execution_count": null,
   "id": "weighted-dream",
   "metadata": {},
   "outputs": [],
   "source": [
    "bottom = np.zeros_like(integ.sums[0])\n",
    "pup = 1 # The pupil for which to plot the piston\n",
    "print(integ.sums[0].shape)\n",
    "signalplot = plt.figure(dpi=100)\n",
    "bars = []\n",
    "read_noise = integ.ron\n",
    "for ksource, (thesource, label) in enumerate(zip(integ.sums, integ.source_labels)):\n",
    "    photon_noise = np.sqrt(thesource)\n",
    "    if ksource >= len(integ.static):\n",
    "        inst_noise = np.std(raw_sources[ksource], axis=0)\n",
    "    else:\n",
    "        inst_noise = np.zeros((asim.lambda_science_range.shape[0], outputs.shape[0]))\n",
    "    #print(\"Inst noise\", ksource,  inst_noise.mean(axis=0))\n",
    "    #print(\"Photon noise\", ksource, photon_noise.mean(axis=0))\n",
    "    noise = np.sqrt(photon_noise**2 + read_noise**2 + inst_noise**2)\n",
    "    for ilamb in range(asim.lambda_science_range.shape[0]):\n",
    "        #print(ksource, ilamb, label)\n",
    "        #pdb.set_trace()\n",
    "        if ilamb == 0:\n",
    "            bars.append(plt.bar(outputs+shift_step*ilamb, thesource[ilamb,:], bottom=bottom[ilamb,:],\n",
    "                label=label, width=shift_step, color=\"C%d\"%ksource)) #yerr=noise[ilamb,:]\n",
    "        else:\n",
    "            bars.append(plt.bar(outputs+shift_step*ilamb, thesource[ilamb,:], bottom=bottom[ilamb,:],\n",
    "                width=shift_step,  color=\"C%d\"%ksource)) #yerr=noise[ilamb,:]\n",
    "    bottom += thesource\n",
    "#plt.legend((bars[i][0] for i in range(len(bars))), source_labels)\n",
    "#Handled the legend with an condition in the loop\n",
    "plt.legend(loc=\"upper left\")\n",
    "plt.xticks(outputs)\n",
    "plt.xlabel(r\"Output and spectral channel %.1f to %.1f $\\mu m$ ($R\\approx %.0f$)\"%(asim.lambda_science_range[0]*1e6,\n",
    "                                                                                 asim.lambda_science_range[-1]*1e6,\n",
    "                                                                                 asim.R.mean()))\n",
    "plt.title(\"Integration of %.2f s on %s\"%(t_exp, asim.tarname))\n",
    "plt.ylabel(\"Number of photons\")\n",
    "plt.show()"
   ]
  },
  {
   "cell_type": "markdown",
   "id": "architectural-fusion",
   "metadata": {},
   "source": [
    "## Standard exposure\n"
   ]
  },
  {
   "cell_type": "code",
   "execution_count": null,
   "id": "dressed-turner",
   "metadata": {},
   "outputs": [],
   "source": [
    "dit = 1.5"
   ]
  },
  {
   "cell_type": "code",
   "execution_count": null,
   "id": "driving-survivor",
   "metadata": {},
   "outputs": [],
   "source": [
    "integ = asim.make_exposure(asim.src.planet, asim.src.star, diffuse,\n",
    "                                texp=dit,\n",
    "                                monitor_phase=False,\n",
    "                               spectro=asim.spectro)"
   ]
  },
  {
   "cell_type": "code",
   "execution_count": null,
   "id": "civilian-surveillance",
   "metadata": {},
   "outputs": [],
   "source": [
    "from tqdm import tqdm\n",
    "n_frames = 10\n",
    "mynpix = 8\n",
    "diffuse = [asim.src.sky, asim.src.UT, asim.src.warm_optics, asim.src.combiner, asim.src.cold_optics]\n",
    "datacube = []\n",
    "dit_intensity = []\n",
    "for i in tqdm(range(n_frames)):\n",
    "    integ = asim.make_exposure(asim.src.planet, asim.src.star, diffuse,\n",
    "                                texp=dit,\n",
    "                                monitor_phase=False,\n",
    "                               spectro=asim.spectro)\n",
    "    datacube.append(integ.get_total(spectrograph=None,\n",
    "                                    t_exp=dit,\n",
    "                                    n_pixsplit=mynpix))\n",
    "    dit_intensity.append(integ.forensics[\"Expectancy\"].sum(axis=0))\n",
    "    integ.reset() # This can be removed after new kernel start\n",
    "datacube = np.array(datacube)\n",
    "dit_intensity = np.array(dit_intensity)"
   ]
  },
  {
   "cell_type": "markdown",
   "id": "intended-month",
   "metadata": {},
   "source": [
    "## The combiner matrix"
   ]
  },
  {
   "cell_type": "code",
   "execution_count": null,
   "id": "joined-villa",
   "metadata": {},
   "outputs": [],
   "source": [
    "\n",
    "plt.style.use(\"default\")"
   ]
  },
  {
   "cell_type": "code",
   "execution_count": null,
   "id": "digital-grade",
   "metadata": {},
   "outputs": [],
   "source": [
    "from kernuller.diagrams import plot_chromatic_matrix\n",
    "fig, axs, matrix = plot_chromatic_matrix(asim.combiner.M,\n",
    "                                         sf.combiners.lamb, asim.lambda_science_range,\n",
    "                                         verbose=False, returnmatrix=True,minfrac=0.9,\n",
    "                                         plotout=True, show=False, title=\"With Tepper couplers\")"
   ]
  },
  {
   "cell_type": "code",
   "execution_count": null,
   "id": "upper-outreach",
   "metadata": {},
   "outputs": [],
   "source": []
  }
 ],
 "metadata": {
  "kernelspec": {
   "display_name": "Python 3",
   "language": "python",
   "name": "python3"
  },
  "language_info": {
   "codemirror_mode": {
    "name": "ipython",
    "version": 3
   },
   "file_extension": ".py",
   "mimetype": "text/x-python",
   "name": "python",
   "nbconvert_exporter": "python",
   "pygments_lexer": "ipython3",
   "version": "3.7.9"
  }
 },
 "nbformat": 4,
 "nbformat_minor": 5
}
