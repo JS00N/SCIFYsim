{
 "cells": [
  {
   "cell_type": "markdown",
   "id": "compatible-product",
   "metadata": {
    "tags": []
   },
   "source": [
    "# Getting started with SCIFYsim\n",
    "\n",
    "## Import the library"
   ]
  },
  {
   "cell_type": "code",
   "execution_count": null,
   "id": "above-turkish",
   "metadata": {},
   "outputs": [],
   "source": [
    "import scifysim as sf\n",
    "import numpy as np\n",
    "import matplotlib.pyplot as plt\n",
    "# optional (when using dark interfaces)\n",
    "plt.style.use(\"dark_background\")"
   ]
  },
  {
   "cell_type": "markdown",
   "id": "static-identifier",
   "metadata": {},
   "source": []
  },
  {
   "cell_type": "code",
   "execution_count": null,
   "id": "excited-bikini",
   "metadata": {},
   "outputs": [],
   "source": [
    "my_target = \"GJ 86 A\""
   ]
  },
  {
   "cell_type": "code",
   "execution_count": null,
   "id": "industrial-marking",
   "metadata": {},
   "outputs": [],
   "source": [
    "print(\"SCIFYsim version: \", sf.version)\n",
    "sf.logit.setLevel(sf.logging.ERROR)\n",
    "t_exp =1.\n",
    "seed = 10\n",
    "expname = \"R400_base_sensitivity\"\n",
    "save_results = False"
   ]
  },
  {
   "cell_type": "code",
   "execution_count": null,
   "id": "sublime-recognition",
   "metadata": {},
   "outputs": [],
   "source": [
    "configfile = \"config/default_R400.ini\""
   ]
  },
  {
   "cell_type": "code",
   "execution_count": null,
   "id": "operating-toddler",
   "metadata": {},
   "outputs": [],
   "source": [
    "asim = sf.utilities.prepare_all(configfile, thetarget=my_target, update_params=True,\n",
    "                  instrumental_errors=True, seed=seed, update_start_end=False)\n",
    "asim.combiner.chromatic_matrix(asim.lambda_science_range)"
   ]
  },
  {
   "cell_type": "code",
   "execution_count": null,
   "id": "1f0cef25-bcdf-4955-96a6-63297c71d055",
   "metadata": {},
   "outputs": [],
   "source": [
    "asim.context = sf.analysis.spectral_context(asim.config)#(\"config/vega_R400.ini\")"
   ]
  },
  {
   "cell_type": "code",
   "execution_count": null,
   "id": "graduate-protein",
   "metadata": {},
   "outputs": [],
   "source": [
    "diffuse = [asim.src.sky, asim.src.UT, asim.src.warm_optics, asim.src.combiner, asim.src.cold_optics]\n"
   ]
  },
  {
   "cell_type": "markdown",
   "id": "collective-energy",
   "metadata": {
    "tags": []
   },
   "source": [
    "# Making some exposure\n",
    "\n",
    "## First, point the instrument to your target"
   ]
  },
  {
   "cell_type": "code",
   "execution_count": null,
   "id": "gorgeous-treat",
   "metadata": {},
   "outputs": [],
   "source": [
    "asim.point(asim.sequence[3], asim.target)"
   ]
  },
  {
   "cell_type": "markdown",
   "id": "efficient-plaintiff",
   "metadata": {},
   "source": [
    "## Then you can start an integration"
   ]
  },
  {
   "cell_type": "code",
   "execution_count": null,
   "id": "iraqi-retrieval",
   "metadata": {},
   "outputs": [],
   "source": [
    "integ = asim.make_metrologic_exposure(asim.src.planet, asim.src.star, diffuse,\n",
    "                                      texp=t_exp)\n",
    "integ.prepare_t_exp_base()\n",
    "\n",
    "integ.consolidate_metrologic()"
   ]
  },
  {
   "cell_type": "markdown",
   "id": "english-nothing",
   "metadata": {},
   "source": [
    "## Nice view of the results"
   ]
  },
  {
   "cell_type": "code",
   "execution_count": null,
   "id": "younger-surfing",
   "metadata": {},
   "outputs": [],
   "source": [
    "shift_step = 1/(asim.n_spec_ch+2)\n",
    "outputs = np.arange(integ.summed_signal.shape[2])\n",
    "isources = np.arange(len(integ.sums))\n",
    "raw_sources = [integ.static[0], integ.static[1],\n",
    "               integ.static[2], integ.static[3],\n",
    "               integ.static, integ.starlight, integ.planetlight]"
   ]
  },
  {
   "cell_type": "code",
   "execution_count": null,
   "id": "numerical-array",
   "metadata": {},
   "outputs": [],
   "source": [
    "bottom = np.zeros_like(integ.sums[0])\n",
    "pup = 1 # The pupil for which to plot the piston\n",
    "print(integ.sums[0].shape)\n",
    "signalplot = plt.figure(dpi=100)\n",
    "bars = []\n",
    "read_noise = integ.ron\n",
    "for ksource, (thesource, label) in enumerate(zip(integ.sums, integ.source_labels)):\n",
    "    photon_noise = np.sqrt(thesource)\n",
    "    if ksource >= len(integ.static):\n",
    "        inst_noise = np.std(raw_sources[ksource], axis=0)\n",
    "    else:\n",
    "        inst_noise = np.zeros((asim.lambda_science_range.shape[0], outputs.shape[0]))\n",
    "    #print(\"Inst noise\", ksource,  inst_noise.mean(axis=0))\n",
    "    #print(\"Photon noise\", ksource, photon_noise.mean(axis=0))\n",
    "    noise = np.sqrt(photon_noise**2 + read_noise**2 + inst_noise**2)\n",
    "    for ilamb in range(asim.lambda_science_range.shape[0]):\n",
    "        #print(ksource, ilamb, label)\n",
    "        #pdb.set_trace()\n",
    "        if ilamb == 0:\n",
    "            bars.append(plt.bar(outputs+shift_step*ilamb, thesource[ilamb,:], bottom=bottom[ilamb,:],\n",
    "                label=label, width=shift_step, color=\"C%d\"%ksource)) #yerr=noise[ilamb,:]\n",
    "        else:\n",
    "            bars.append(plt.bar(outputs+shift_step*ilamb, thesource[ilamb,:], bottom=bottom[ilamb,:],\n",
    "                width=shift_step,  color=\"C%d\"%ksource)) #yerr=noise[ilamb,:]\n",
    "    bottom += thesource\n",
    "#plt.legend((bars[i][0] for i in range(len(bars))), source_labels)\n",
    "#Handled the legend with an condition in the loop\n",
    "plt.legend(loc=\"upper left\")\n",
    "plt.xticks(outputs)\n",
    "plt.xlabel(r\"Output and spectral channel %.1f to %.1f $\\mu m$ ($R\\approx %.0f$)\"%(asim.lambda_science_range[0]*1e6,\n",
    "                                                                                 asim.lambda_science_range[-1]*1e6,\n",
    "                                                                                 asim.R.mean()))\n",
    "plt.title(\"Integration of %.2f s on %s\"%(t_exp, asim.tarname))\n",
    "plt.ylabel(\"Number of photons\")\n",
    "plt.show()"
   ]
  },
  {
   "cell_type": "code",
   "execution_count": null,
   "id": "f4a773f5-e3c6-49b1-89fc-3b051c6702c6",
   "metadata": {},
   "outputs": [],
   "source": []
  },
  {
   "cell_type": "markdown",
   "id": "leading-windsor",
   "metadata": {},
   "source": [
    "## Standard exposure\n"
   ]
  },
  {
   "cell_type": "code",
   "execution_count": null,
   "id": "complete-bibliography",
   "metadata": {},
   "outputs": [],
   "source": [
    "dit = 1."
   ]
  },
  {
   "cell_type": "code",
   "execution_count": null,
   "id": "entire-council",
   "metadata": {},
   "outputs": [],
   "source": [
    "integ = asim.make_exposure(asim.src.planet, asim.src.star, diffuse,\n",
    "                                texp=dit,\n",
    "                                monitor_phase=False,\n",
    "                               spectro=asim.spectro)"
   ]
  },
  {
   "cell_type": "code",
   "execution_count": null,
   "id": "hearing-ordinary",
   "metadata": {},
   "outputs": [],
   "source": [
    "from tqdm import tqdm\n",
    "n_frames = 10\n",
    "mynpix = 8\n",
    "diffuse = [asim.src.sky, asim.src.UT, asim.src.warm_optics, asim.src.combiner, asim.src.cold_optics]\n",
    "screen_age = 0.\n",
    "reveta = 1/integ.eta\n",
    "full_record = True\n",
    "datacube = []\n",
    "dit_intensity = []\n",
    "starlights = []\n",
    "planetlights = []\n",
    "for i in tqdm(range(n_frames)):\n",
    "    if screen_age>=20. :\n",
    "        print(\"generating screen\")\n",
    "        asim.injector.update_screens()\n",
    "        screen_age = 0.\n",
    "    integ = asim.make_exposure(asim.src.planet, asim.src.star, diffuse,\n",
    "                                texp=dit,\n",
    "                                monitor_phase=False,\n",
    "                               spectro=None)\n",
    "    datacube.append(integ.get_total(spectrograph=None,\n",
    "                                    t_exp=dit,\n",
    "                                    n_pixsplit=mynpix))\n",
    "    dit_intensity.append(reveta * integ.forensics[\"Expectancy\"].sum(axis=0))\n",
    "    if full_record:\n",
    "        starlights.append(integ.starlight.astype(np.float32))\n",
    "        planetlights.append(integ.planetlight.astype(np.float32))\n",
    "    integ.reset() # This can be removed after new kernel start\n",
    "    screen_age += dit\n",
    "datacube = np.array(datacube)\n",
    "dit_intensity = np.array(dit_intensity)\n",
    "starlights = np.array(starlights)\n",
    "planetlights = np.array(planetlights)"
   ]
  },
  {
   "cell_type": "markdown",
   "id": "charged-certificate",
   "metadata": {},
   "source": [
    "## The combiner matrix"
   ]
  },
  {
   "cell_type": "code",
   "execution_count": null,
   "id": "middle-implementation",
   "metadata": {},
   "outputs": [],
   "source": [
    "\n",
    "plt.style.use(\"default\")"
   ]
  },
  {
   "cell_type": "code",
   "execution_count": null,
   "id": "binding-equation",
   "metadata": {},
   "outputs": [],
   "source": [
    "from kernuller.diagrams import plot_chromatic_matrix\n",
    "fig, axs, matrix = plot_chromatic_matrix(asim.combiner.M,\n",
    "                                         sf.combiners.lamb, asim.lambda_science_range,\n",
    "                                         verbose=False, returnmatrix=True,minfrac=0.9,\n",
    "                                         plotout=True, show=False, title=\"With Tepper couplers\")"
   ]
  },
  {
   "cell_type": "code",
   "execution_count": null,
   "id": "alleged-contemporary",
   "metadata": {},
   "outputs": [],
   "source": [
    "nul_plot, cmp_plot, bar_plot, shape_plot =\\\n",
    "        sf.plot_tools.plot_corrector_tuning_angel_woolf(asim.corrector, asim.lambda_science_range, asim.combiner)"
   ]
  },
  {
   "cell_type": "code",
   "execution_count": null,
   "id": "2dded904-1f7c-450d-ad2b-b7da5dd43156",
   "metadata": {},
   "outputs": [],
   "source": [
    "asim.point(asim.sequence[3], asim.target)"
   ]
  },
  {
   "cell_type": "code",
   "execution_count": null,
   "id": "6b707369-e948-4c37-b806-80d81f60c594",
   "metadata": {},
   "outputs": [],
   "source": [
    "from kernuller import pairwise_kernel\n",
    "ak = pairwise_kernel(2)\n",
    "myk = np.hstack((np.zeros((1,3)), ak, np.zeros((1,3))))\n",
    "asim.combiner.K = myk\n",
    "\n",
    "\n",
    "diffobs = np.einsum(\"ij, mkj->mk\",asim.combiner.K, dit_intensity)\n",
    "diff_std = np.std(diffobs, axis=0)"
   ]
  },
  {
   "cell_type": "code",
   "execution_count": null,
   "id": "3c211c94-b538-45de-bdc5-1bac62fa55ad",
   "metadata": {},
   "outputs": [],
   "source": [
    "integ.reset()\n",
    "integ = asim.make_exposure(asim.src.planet, asim.src.star, diffuse,\n",
    "                                texp=dit,\n",
    "                                monitor_phase=False,\n",
    "                               spectro=None)\n",
    "block = integ.get_total(spectrograph=None,t_exp=dit, n_pixsplit=mynpix)\n",
    "print(f\"datacube shape: {datacube.shape}\")\n",
    "print(f\"dit = {dit} s\")\n",
    "brigh_max = np.max(np.mean(integ.forensics[\"Expectancy\"][:,:,asim.combiner.bright], axis=0))\n",
    "dark_max = np.max(np.mean(integ.forensics[\"Expectancy\"][:,:,asim.combiner.dark], axis=0))\n",
    "longest_exp_bright = 65000 / (brigh_max/dit)\n",
    "longest_exp_dark = 65000 / (dark_max/dit)\n",
    "print(f\"Bright limit: {longest_exp_bright:.2f} s\\n Dark limit: {longest_exp_dark:.2f} s\")\n",
    "data_std = np.std(datacube, axis=0)\n",
    "diff_std = np.std(datacube[:,:,3]-datacube[:,:,4], axis=0)\n",
    "\n",
    "integ.static = asim.computed_static\n",
    "integ.mean_starlight = np.mean(starlights, axis=0)\n",
    "integ.mean_planetlight = np.mean(planetlights, axis=0)\n",
    "integ.mean_intensity = np.mean(dit_intensity, axis=0)"
   ]
  },
  {
   "cell_type": "code",
   "execution_count": null,
   "id": "aae3937d-4ab6-443d-9f71-1ab87e0e6490",
   "metadata": {},
   "outputs": [],
   "source": [
    "mkdir /tmp/plots"
   ]
  },
  {
   "cell_type": "code",
   "execution_count": null,
   "id": "ce710e1e-5666-4ed2-8883-d029850c2bc9",
   "metadata": {},
   "outputs": [],
   "source": [
    "prof = sf.analysis.noiseprofile(integ, asim, diffobs, n_pixsplit=mynpix)\n",
    "fig = prof.plot_noise_sources(asim.lambda_science_range, dit=1., show=False,\n",
    "                             ymin=0.2, ymax=1.)\n",
    "plt.legend(loc=\"upper right\", fontsize=\"xx-small\")\n",
    "\n",
    "plt.savefig(\"/tmp/plots/noises.pdf\", bbox_inches='tight', dpi=200)\n",
    "plt.show()"
   ]
  },
  {
   "cell_type": "code",
   "execution_count": null,
   "id": "979f6afe-f2de-430e-acb7-80b41c056a68",
   "metadata": {},
   "outputs": [],
   "source": []
  }
 ],
 "metadata": {
  "kernelspec": {
   "display_name": "Python 3 (ipykernel)",
   "language": "python",
   "name": "python3"
  },
  "language_info": {
   "codemirror_mode": {
    "name": "ipython",
    "version": 3
   },
   "file_extension": ".py",
   "mimetype": "text/x-python",
   "name": "python",
   "nbconvert_exporter": "python",
   "pygments_lexer": "ipython3",
   "version": "3.9.11"
  }
 },
 "nbformat": 4,
 "nbformat_minor": 5
}
